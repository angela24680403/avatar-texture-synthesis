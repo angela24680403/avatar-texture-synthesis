{
 "cells": [
  {
   "cell_type": "code",
   "execution_count": 6,
   "metadata": {},
   "outputs": [
    {
     "data": {
      "text/plain": [
       "True"
      ]
     },
     "execution_count": 6,
     "metadata": {},
     "output_type": "execute_result"
    }
   ],
   "source": [
    "import cv2\n",
    "import numpy as np\n",
    "\n",
    "def create_mask(image_path):\n",
    "    # Read the image\n",
    "    img = cv2.imread(image_path, cv2.IMREAD_GRAYSCALE)\n",
    "\n",
    "    # Create a binary mask\n",
    "    mask = np.zeros_like(img)\n",
    "    mask[img >= 150] = 255\n",
    "\n",
    "    return mask\n",
    "\n",
    "# Replace 'your_image.jpg' with the path to your image\n",
    "image_path = 'avatar3/image.png'\n",
    "\n",
    "result_mask = create_mask(image_path)\n",
    "\n",
    "# Define the kernel for dilation\n",
    "kernel = np.ones((5, 5), np.uint8)\n",
    "\n",
    "# Apply dilation to the mask\n",
    "dilated_mask = cv2.dilate(result_mask, kernel, iterations=1)\n",
    "\n",
    "cv2.imwrite('avatar3/result_mask.png', dilated_mask)\n",
    "\n",
    "\n",
    "\n"
   ]
  }
 ],
 "metadata": {
  "kernelspec": {
   "display_name": "Python 3",
   "language": "python",
   "name": "python3"
  },
  "language_info": {
   "codemirror_mode": {
    "name": "ipython",
    "version": 3
   },
   "file_extension": ".py",
   "mimetype": "text/x-python",
   "name": "python",
   "nbconvert_exporter": "python",
   "pygments_lexer": "ipython3",
   "version": "3.9.1"
  }
 },
 "nbformat": 4,
 "nbformat_minor": 2
}
